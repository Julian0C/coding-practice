{
 "cells": [
  {
   "cell_type": "markdown",
   "metadata": {},
   "source": [
    "# An Anagram Detection"
   ]
  },
  {
   "cell_type": "code",
   "execution_count": 59,
   "metadata": {
    "collapsed": false
   },
   "outputs": [],
   "source": [
    "def ana0(a,b):\n",
    "    if len(a) != len(b):\n",
    "        return False\n",
    "    \n",
    "    list1 = list(a)\n",
    "    list2 = list(b)\n",
    "    \n",
    "    for item in list1:\n",
    "        try:\n",
    "            list2.remove(item)\n",
    "        except:\n",
    "            return False\n",
    "            \n",
    "    if len(list2) ==0:\n",
    "        return True\n",
    "        \n",
    "    else:\n",
    "        return False\n",
    "            \n",
    "    \n",
    "def ana1(s1,s2):\n",
    "    if len(s1) != len(s2): return False\n",
    "    dic1 = {}\n",
    "    dic2 = {}\n",
    "    for i in s1:\n",
    "        dic1[i] =dic1.get(i, 0)+1\n",
    "    for j in s2:\n",
    "        dic2[j] =dic2.get(j, 0)+1\n",
    "    if dic1 == dic2:\n",
    "        return True\n",
    "    return False\n",
    "\n",
    "\n",
    "\n",
    "def ana2(s1,s2):\n",
    "    if len(s1) != len(s2): return False\n",
    "    import collections\n",
    "    dic1 = collections.Counter(s1)\n",
    "    dic2 = collections.Counter(s2)\n",
    "    if dic1 == dic2:\n",
    "        return True\n",
    "    return False"
   ]
  },
  {
   "cell_type": "code",
   "execution_count": 60,
   "metadata": {
    "collapsed": false
   },
   "outputs": [],
   "source": [
    "s1 = 'a'*260000\n",
    "s2 = 'a'*260000"
   ]
  },
  {
   "cell_type": "code",
   "execution_count": 61,
   "metadata": {
    "collapsed": false
   },
   "outputs": [],
   "source": [
    "import time"
   ]
  },
  {
   "cell_type": "code",
   "execution_count": 62,
   "metadata": {
    "collapsed": false
   },
   "outputs": [
    {
     "name": "stdout",
     "output_type": "stream",
     "text": [
      "10.894220113754272\n"
     ]
    }
   ],
   "source": [
    "start = time.time()\n",
    "ana0(s1,s2)\n",
    "end = time.time()\n",
    "print(end-start)"
   ]
  },
  {
   "cell_type": "code",
   "execution_count": 63,
   "metadata": {
    "collapsed": false
   },
   "outputs": [
    {
     "name": "stdout",
     "output_type": "stream",
     "text": [
      "0.10174322128295898\n"
     ]
    }
   ],
   "source": [
    "start = time.time()\n",
    "ana1(s1,s2)\n",
    "end = time.time()\n",
    "print(end-start)"
   ]
  },
  {
   "cell_type": "code",
   "execution_count": 64,
   "metadata": {
    "collapsed": false
   },
   "outputs": [
    {
     "name": "stdout",
     "output_type": "stream",
     "text": [
      "0.03362894058227539\n"
     ]
    }
   ],
   "source": [
    "start = time.time()\n",
    "ana2(s1,s2)\n",
    "end = time.time()\n",
    "print(end-start)"
   ]
  },
  {
   "cell_type": "code",
   "execution_count": null,
   "metadata": {
    "collapsed": true
   },
   "outputs": [],
   "source": []
  },
  {
   "cell_type": "code",
   "execution_count": null,
   "metadata": {
    "collapsed": true
   },
   "outputs": [],
   "source": []
  }
 ],
 "metadata": {
  "kernelspec": {
   "display_name": "Python 3",
   "language": "python",
   "name": "python3"
  },
  "language_info": {
   "codemirror_mode": {
    "name": "ipython",
    "version": 3
   },
   "file_extension": ".py",
   "mimetype": "text/x-python",
   "name": "python",
   "nbconvert_exporter": "python",
   "pygments_lexer": "ipython3",
   "version": "3.4.3"
  }
 },
 "nbformat": 4,
 "nbformat_minor": 2
}
